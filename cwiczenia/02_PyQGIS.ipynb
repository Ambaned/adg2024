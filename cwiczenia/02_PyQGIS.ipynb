{
 "cells": [
  {
   "cell_type": "markdown",
   "id": "63884223",
   "metadata": {},
   "source": [
    "<font size=\"5\">**Algorytmy danych geoprzestrzennych**</font><br>\n",
    "<font size=\"4\">Wprowadzenie do PyQGIS</font>\n",
    "\n",
    "<font size=\"4\">Krzysztof Dyba</font>"
   ]
  },
  {
   "cell_type": "markdown",
   "id": "57d26a90",
   "metadata": {},
   "source": [
    "PyQGIS to biblioteka języka Python udostępniająca interfejs programistyczny do aplikacji QGIS, dzięki czemu możliwa jest interakcja pomiędzy kodem napisanym w Pythonie, a środowiskiem i elementami QGIS (np. projekt, warstwy, funkcje, itd.). Biblioteka odgrywa kluczową rolę w automatyzacji zadań oraz tworzeniu niestandardowych narzędzi i wtyczek do rozszerzenia funkcjonalności QGIS. PyQGIS jest częścią projektu QGIS, który jest darmowy i otwarty.\n",
    "\n",
    "Przykładowe zastosowania:\n",
    "- Automatyzacja (przetwarzanie wsadowe, skrypty do czyszczenia i walidacji danych, generowanie map),\n",
    "- Tworzenie nowwych narzędzi (wtyczki, specjalistyczne algorytmy geoprzetwarzania, niestandardowe interfejsy),\n",
    "- Zaawansowane analizy przestrzenne (wykorzystanie zewnętrznych bibliotek, np. `numpy`, `scikit-learn`)."
   ]
  },
  {
   "cell_type": "markdown",
   "id": "526a9702",
   "metadata": {},
   "source": [
    "# Instalacja\n",
    "\n",
    "Instalacja jest bardzo prosta -- należy pobrać program QGIS z oficjalnej strony https://qgis.org/download/ i zainstalować według wyświetlanych instrukcji. Środowisko Python i podstawowe biblioteki są automatycznie instalowane wraz z QGIS."
   ]
  },
  {
   "cell_type": "markdown",
   "id": "e6874e7c",
   "metadata": {},
   "source": [
    "# Pierwsze kroki\n",
    "\n",
    "Zasadniczo bibliotekę PyQGIS możemy wykorzystać na dwa sposoby:\n",
    "\n",
    "1. Zintegrowana konsola Pythona w QGIS.\n",
    "QGIS ma wbudowaną konsolę Pythona, w której można wykonywać skrypty interaktywnie. Aby ją włączyć kliknij `Wtyczki` > `Konsola Pythona` w pasku narzędzi. Można również wykorzystać skrót klawiszowy: `CTRL` + `ALT` + `P`. Oprócz konsoli, wbudowany jest bardzo prosty edytor kodu.\n",
    "\n",
    "2. Samodzielne skrypty Python.\n",
    "PyQGIS można również wykorzystać poza aplikacją QGIS w samodzielnych skryptach Pythona.\n",
    "\n",
    "Sprawdź czy wszystko działa prawidłowo wykonując następujące polecenie:"
   ]
  },
  {
   "cell_type": "code",
   "execution_count": 10,
   "id": "d89a9ec3",
   "metadata": {},
   "outputs": [],
   "source": [
    "from qgis.core import *"
   ]
  },
  {
   "cell_type": "markdown",
   "id": "8c94704a",
   "metadata": {},
   "source": [
    "## Dane wektorowe\n",
    "\n",
    "### Wczytywanie\n",
    "\n",
    "W folderze `dane` znajduje się plik *powiaty.gpkg*, który zawiera granice powiatów w wielkopolsce z [Państowego Rejestru Granic](https://www.geoportal.gov.pl/pl/dane/panstwowy-rejestr-granic-prg/). Żeby go wczytać należy wykorzystać klasę [QgsVectorLayer](https://qgis.org/pyqgis/master/core/QgsVectorLayer.html) i zdefiniować trzy argumenty:\n",
    "\n",
    "1. ścieżkę do pliku,\n",
    "2. nazwę warstwy pod jaką zostanie wyświetlony,\n",
    "3. backend do wczytania danych (*data provider*), np. [ogr](https://gdal.org/en/stable/drivers/vector/index.html), [spatialite](https://www.gaia-gis.it/fossil/libspatialite/index), [postgres](https://www.postgresql.org/).\n",
    "\n",
    "Ścieżkę do pliku można zdefiniować na dwa sposoby. Pierwszy to podanie **ścieżki bezwzględniej**, tj. wskazanie dokładnej lokalizacji, w której znajduje się plik. Na przykład:\n",
    "\n",
    "```\n",
    "sciezka = \"C:\\Users\\Krzysztof\\Desktop\\dane.csv\"\n",
    "# lub sciezka = \"C:\\\\Users\\\\Krzysztof\\\\Desktop\\\\dane.csv\"\n",
    "```\n",
    "\n",
    "Nie jest to jednak rekomendowana metoda, ponieważ zakłada, że struktura katalogów pomiędzy różnymi komputerami i systemami jest identyczna. Drugi sposób polega na podaniu **ścieżki względnej**. W tym przypadku podajemy lokalizację pliku względem bieżącego katalogu roboczego lub projektu. Aby dowiedzieć się, gdzie znajduje się katalog roboczy, możemy użyć metody `getcwd()` z biblioteki `os`, a do jego zmiany metody `chdir()`. Uwaga: domyślna ścieżka katalogu roboczego w konsoli QGIS, a systemowej są różne!"
   ]
  },
  {
   "cell_type": "code",
   "execution_count": 11,
   "id": "801e3541",
   "metadata": {},
   "outputs": [
    {
     "name": "stdout",
     "output_type": "stream",
     "text": [
      "C:\\Users\\Krzysztof\\Desktop\n"
     ]
    }
   ],
   "source": [
    "import os\n",
    "print(os.getcwd())"
   ]
  },
  {
   "cell_type": "markdown",
   "id": "d2110cc0",
   "metadata": {},
   "source": [
    "Zauważ również, że w zależności od systemu jest wykorzystywany różny separator katalogów w hierarchii. Aby prawidłowo wskazać ścieżkę do pliku należy wykorzystać metodę `os.path.join()`."
   ]
  },
  {
   "cell_type": "code",
   "execution_count": 12,
   "id": "13277ae9",
   "metadata": {},
   "outputs": [
    {
     "name": "stdout",
     "output_type": "stream",
     "text": [
      "projekt\\dane\\pomiary.csv\n"
     ]
    }
   ],
   "source": [
    "print(os.path.join(\"projekt\", \"dane\", \"pomiary.csv\"))"
   ]
  },
  {
   "cell_type": "markdown",
   "id": "084029f1",
   "metadata": {},
   "source": [
    "Spróbujmy teraz wczytać nasz plik."
   ]
  },
  {
   "cell_type": "code",
   "execution_count": 13,
   "id": "020e1830",
   "metadata": {},
   "outputs": [
    {
     "name": "stdout",
     "output_type": "stream",
     "text": [
      "True\n"
     ]
    }
   ],
   "source": [
    "from qgis.core import QgsVectorLayer\n",
    "\n",
    "# określenie ścieżki do pliku\n",
    "sciezka_do_pliku = os.path.join(\"algorytmy-geoprzestrzenne\", \"dane\", \"powiaty.gpkg\")\n",
    "\n",
    "# wczytanie warstwy wektorowej\n",
    "warstwa = QgsVectorLayer(sciezka_do_pliku, \"powiaty\", \"ogr\")\n",
    "\n",
    "# sprawdzenie czy warstwa została załadowana prawidłowo\n",
    "print(warstwa.isValid())"
   ]
  },
  {
   "cell_type": "markdown",
   "id": "e0e8e0e6",
   "metadata": {},
   "source": [
    "Jak możemy zauważyć warstwa została wczytana prawidłowo. Następnie możemy wyświetlić ją w QGIS (pod warunkiem, że kod wykonujemy w QGIS)."
   ]
  },
  {
   "cell_type": "markdown",
   "id": "8d8b4654",
   "metadata": {},
   "source": [
    "```\n",
    "from qgis.core import QgsProject\n",
    "QgsProject.instance().addMapLayer(warstwa)\n",
    "```"
   ]
  },
  {
   "cell_type": "markdown",
   "id": "19ef32cb",
   "metadata": {},
   "source": [
    "### Wyświetlanie metadanych\n",
    "\n",
    "W kolejnym kroku możemy wyświetlić podstawowe informacje o warstwie, tj.:\n",
    "- rodzaj geometrii,\n",
    "- zakres przestrzenny,\n",
    "- liczba obiektów oraz liczba atrybutów,\n",
    "- układ współrzędnnych."
   ]
  },
  {
   "cell_type": "code",
   "execution_count": 37,
   "id": "40fdb769",
   "metadata": {},
   "outputs": [
    {
     "name": "stdout",
     "output_type": "stream",
     "text": [
      "Typ geometrii: Polygon\n",
      "Zakres przestrzenny: 281949.3437500000000000,360241.7500000000000000 : 507167.3125000000000000,645513.6250000000000000\n",
      "Liczba obiektów: 35\n",
      "Liczba atrybutów: 5\n",
      "CRS: EPSG:2180\n"
     ]
    }
   ],
   "source": [
    "# rodzaj geometrii\n",
    "type = layer.geometryType().name\n",
    "# QgsWkbTypes.displayString(layer.wkbType())\n",
    "print(\"Typ geometrii:\", type)\n",
    "\n",
    "# zakres przestrzenny\n",
    "extent = layer.extent()\n",
    "print(\"Zakres przestrzenny:\", extent.toString())\n",
    "\n",
    "# liczba obiektów\n",
    "feature_count = layer.featureCount()\n",
    "print(\"Liczba obiektów:\", feature_count)\n",
    "\n",
    "# liczba atrybutów\n",
    "feature_count = layer.fields().count()\n",
    "print(\"Liczba atrybutów:\", feature_count)\n",
    "\n",
    "# układ współrzędnnych\n",
    "crs = layer.crs()\n",
    "print(\"CRS:\", crs.authid())"
   ]
  },
  {
   "cell_type": "markdown",
   "id": "7eb0a3b7",
   "metadata": {},
   "source": [
    "### Zapisywanie"
   ]
  },
  {
   "cell_type": "markdown",
   "id": "82a3ca20",
   "metadata": {},
   "source": [
    "## Dane rastrowe\n",
    "\n",
    "### Wczytywanie\n",
    "\n",
    "### Wyświetlanie metadanych\n",
    "\n",
    "### Zapisywanie"
   ]
  },
  {
   "cell_type": "markdown",
   "id": "062964df",
   "metadata": {},
   "source": [
    "# Zadania"
   ]
  },
  {
   "cell_type": "markdown",
   "id": "03eda4d0",
   "metadata": {},
   "source": [
    "TODO:\n",
    "1. Wczytanie warstwy wektorowej\n",
    "  -- wczytanie tylko obiektow, ktore spelniaja warunek\n",
    "2. Zapisanie warstwy wektorowej\n",
    "3. Wyświetl podstawowe informacje (crs, liczba rekordow, typ geometrii, nazwy atrybutow)\n",
    "4. Iterowanie po obiektach\n",
    "5. Stworzenie nowej warstwy progrmistycznie\n",
    "6. Reprojekcja warstwy\n",
    "7. Obliczenie statystyk atrybytów\n",
    "8. Intersekcja dwóch warstw wektorowych\n",
    "9. Tworzenie buforów"
   ]
  }
 ],
 "metadata": {
  "kernelspec": {
   "display_name": "Python 3 (ipykernel)",
   "language": "python",
   "name": "python3"
  },
  "language_info": {
   "codemirror_mode": {
    "name": "ipython",
    "version": 3
   },
   "file_extension": ".py",
   "mimetype": "text/x-python",
   "name": "python",
   "nbconvert_exporter": "python",
   "pygments_lexer": "ipython3",
   "version": "3.12.7"
  },
  "subtitle": "Wprowadzenie do PyQGIS",
  "title": "Algorytmy danych geoprzestrzennych"
 },
 "nbformat": 4,
 "nbformat_minor": 5
}
