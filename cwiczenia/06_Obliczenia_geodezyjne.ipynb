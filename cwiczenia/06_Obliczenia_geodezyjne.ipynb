{
 "cells": [
  {
   "cell_type": "markdown",
   "id": "3633ee98",
   "metadata": {},
   "source": [
    "<font size=\"5\">**Algorytmy danych geoprzestrzennych**</font><br>\n",
    "<font size=\"4\">Obliczenia geodezyjne</font>\n",
    "\n",
    "<font size=\"4\">Krzysztof Dyba</font>"
   ]
  },
  {
   "cell_type": "markdown",
   "id": "5df77d97",
   "metadata": {},
   "source": [
    "# Współrzędne geograficzne\n",
    "\n",
    "Współrzędne geograficzne to zestaw wartości liczbowych używany do określania położenia dowolnego punktu na powierzchni Ziemi. Dwoma podstawowymi składowymi współrzędnych geograficznych są:\n",
    "\n",
    "- szerokość geograficzna (*latitude*; $\\phi$) -- określa jak daleko na północ lub południe znajduje się punkt od równika Ziemi. Przyjmuje wartości z przedziału od 0° do 90° na północ (wartości dodatnie) i od 0° do 90° na południe (wartości ujemne) na biegunach.\n",
    "- długość geograficzna (*longitude*; $\\lambda$) -- określa jak daleko na wschód lub zachód znajduje się punkt od południka zerowego, który przebiega przez Greenwich w Anglii. Przyjmuje wartości z przedziału od 0° do 180° na wschód (wartości dodatnie) i od 0° do 180° na zachód (wartości ujemne).\n",
    "\n",
    "Współrzędne geograficzne są zazwyczaj wyrażane w jednym z następujących formatów:\n",
    "\n",
    "- stopnie, minuty i sekundy (*degrees*, *minutes*, *seconds*; DMS) -- stopnie reprezentują miarę kątową. Każdy stopień podzielony jest na 60 minut, a każda minuta na 60 sekund. Przykładowo: 52°17'34\" N, 16°44'08\" E.\n",
    "- stopnie dziesiętne (*decimal degrees*; DD) -- współrzędne wyrażone są jako wartości dziesiętne stopni. Przykładowo: 52,2927° N, 16,7355° E.\n",
    "- współrzędne planarne -- współrzędne wyrażone jako pomiary liniowe w układzie planarnym. Przykładowo: 345613,2393 m, 494269,4463 m (układ PUWG 1992, EPSG:2180).\n",
    "\n",
    "## Konwersja\n",
    "\n",
    "Wartość DMS konwertowana jest na stopnie dziesiętne przy użyciu następującego wzoru:\n",
    "\n",
    "$$\n",
    "\\text{Stopnie dziesiętne} = \\text{Stopnie} + \\frac{\\text{Minuty}}{60} + \\frac{\\text{Sekundy}}{3600}\n",
    "$$"
   ]
  },
  {
   "cell_type": "code",
   "execution_count": 4,
   "id": "4b804157",
   "metadata": {},
   "outputs": [],
   "source": [
    "def dms_to_decimal(dms_str):\n",
    "    \n",
    "    # zamień znaki na spacje\n",
    "    dms_str = dms_str.replace(\"°\", \" \").replace(\"'\", \" \").replace(\"\\\"\", \" \")\n",
    "    # podziel tekst na części według spacji\n",
    "    parts = dms_str.split()\n",
    "    \n",
    "    degrees = int(parts[0])\n",
    "    minutes = int(parts[1])\n",
    "    seconds = int(parts[2])\n",
    "    direction = parts[3]\n",
    "    \n",
    "    decimal = degrees + (minutes / 60) + (seconds / 3600)\n",
    "    decimal = round(decimal, 4)\n",
    "    \n",
    "    # sprawdź kierunek i nadaj znak\n",
    "    if direction in [\"S\", \"W\"]:\n",
    "        decimal = -decimal\n",
    "    \n",
    "    return decimal"
   ]
  },
  {
   "cell_type": "code",
   "execution_count": 5,
   "id": "15b08ebd",
   "metadata": {},
   "outputs": [
    {
     "name": "stdout",
     "output_type": "stream",
     "text": [
      "52.2928°\n",
      "16.7356°\n"
     ]
    }
   ],
   "source": [
    "print(dms_to_decimal(\"52°17'34\\\" N\"), \"°\", sep = \"\")\n",
    "print(dms_to_decimal(\"16°44'08\\\" E\"), \"°\", sep = \"\")"
   ]
  },
  {
   "cell_type": "markdown",
   "id": "c225794f",
   "metadata": {},
   "source": [
    "Natomiast operacja odwrotna, czyli konwersja stopni dziesiętnych na wartość DMS, wymaga zastosowanie poniższych wzorów:\n",
    "\n",
    "$$\n",
    "\\text{Stopnie} = \\text{int}(\\text{Stopnie dziesiętne})\n",
    "$$\n",
    "\n",
    "$$\n",
    "\\text{Minuty} = \\text{int}\\left((\\text{Stopnie dziesiętne} - \\text{Stopnie}) \\times 60\\right)\n",
    "$$\n",
    "\n",
    "$$\n",
    "\\text{Sekundy} = \\left((\\text{Stopnie dziesiętne} - \\text{Stopnie}) \\times 60 - \\text{Minuty}\\right) \\times 60\n",
    "$$"
   ]
  },
  {
   "cell_type": "markdown",
   "id": "ed68b9f6",
   "metadata": {},
   "source": [
    "# Obliczenia\n",
    "\n",
    "## Odległość\n",
    "\n",
    "Dane są dwa punkty reprezentujące lokalizację Warszawy (21,0122°, 52,2296°) oraz Rzymu (12,5113°, 41,8919°)."
   ]
  },
  {
   "cell_type": "markdown",
   "id": "c883fb37",
   "metadata": {},
   "source": [
    "### Euklidesowa"
   ]
  },
  {
   "cell_type": "code",
   "execution_count": 24,
   "id": "490e4e82",
   "metadata": {},
   "outputs": [
    {
     "name": "stdout",
     "output_type": "stream",
     "text": [
      "Odległość między Warszawą a Rzymem: 1942.97 km\n"
     ]
    }
   ],
   "source": [
    "from qgis.core import QgsPointXY, QgsCoordinateReferenceSystem\n",
    "from qgis.core import QgsCoordinateTransform, QgsCoordinateTransformContext\n",
    "\n",
    "pt1 = (21.0122, 52.2296)\n",
    "pt2 = (12.5113, 41.8919)\n",
    "\n",
    "pt1 = QgsPointXY(pt1[0], pt1[1])\n",
    "pt2 = QgsPointXY(pt2[0], pt2[1])\n",
    "\n",
    "crs_4326 = QgsCoordinateReferenceSystem(\"EPSG:4326\")\n",
    "crs_3857 = QgsCoordinateReferenceSystem(\"EPSG:3857\")\n",
    "\n",
    "transform_context = QgsCoordinateTransformContext()\n",
    "transform = QgsCoordinateTransform(crs_4326, crs_3857, transform_context)\n",
    "\n",
    "pt1_3857 = transform.transform(pt1)\n",
    "pt2_3857 = transform.transform(pt2)\n",
    "\n",
    "distance = pt1_3857.distance(pt2_3857)\n",
    "distance = round(distance / 1000, 2) # wynik w km\n",
    "\n",
    "print(\"Odległość między Warszawą a Rzymem:\", distance, \"km\")"
   ]
  },
  {
   "cell_type": "code",
   "execution_count": 27,
   "id": "3f0ea91e",
   "metadata": {},
   "outputs": [
    {
     "data": {
      "text/plain": [
       "1942.97"
      ]
     },
     "execution_count": 27,
     "metadata": {},
     "output_type": "execute_result"
    }
   ],
   "source": [
    "def euclidean_distance(pt1, pt2):\n",
    "    import math\n",
    "        \n",
    "    # wyodrębnienie współrzędnych z obiektu QgsPoint\n",
    "    x1, y1 = pt1.x(), pt1.y()\n",
    "    x2, y2 = pt2.x(), pt2.y()\n",
    "        \n",
    "    distance = math.sqrt( (x2 - x1)**2 + (y2 - y1)**2 )\n",
    "    distance = round(distance / 1000, 2) # wynik w km\n",
    "    return distance\n",
    "\n",
    "euclidean_distance(pt1_3857, pt2_3857)"
   ]
  },
  {
   "cell_type": "markdown",
   "id": "5ac40e65",
   "metadata": {},
   "source": [
    "### Sferyczna"
   ]
  },
  {
   "cell_type": "code",
   "execution_count": 37,
   "id": "1f1f99f6",
   "metadata": {},
   "outputs": [],
   "source": [
    "# https://en.wikipedia.org/wiki/Geographical_distance#Spherical-surface_formulae\n",
    "\n",
    "def spherical_distance(pt1, pt2):\n",
    "    from math import sin, cos, asin, sqrt, pi\n",
    "    \n",
    "    R = 6371009 # średni promień Ziemi w metrach\n",
    "        \n",
    "    coords = [pt1.x(), pt1.y(), pt2.x(), pt2.y()]\n",
    "    # konwersja stopni na radiany\n",
    "    coords = [coord * pi / 180 for coord in coords]\n",
    "    x1, y1, x2, y2 = coords\n",
    "    \n",
    "    delta_x = cos(y2) * cos(x2) - cos(y1) * cos(x1)\n",
    "    delta_y = cos(y2) * sin(x2) - cos(y1) * sin(x1)\n",
    "    delta_z = sin(y2) - sin(y1)\n",
    "    d_t = R * sqrt( delta_x**2 + delta_y**2 + delta_z**2 )\n",
    "    distance = 2 * R * asin(d_t / (2 * R))\n",
    "    distance = round(distance / 1000, 2)\n",
    "    \n",
    "    return distance"
   ]
  },
  {
   "cell_type": "code",
   "execution_count": 38,
   "id": "691fff30",
   "metadata": {},
   "outputs": [
    {
     "name": "stdout",
     "output_type": "stream",
     "text": [
      "Odległość między Warszawą a Rzymem: 1315.51 km\n"
     ]
    }
   ],
   "source": [
    "distance = spherical_distance(pt1, pt2)\n",
    "print(\"Odległość między Warszawą a Rzymem:\", distance, \"km\")"
   ]
  },
  {
   "cell_type": "markdown",
   "id": "86d890b7",
   "metadata": {},
   "source": [
    "### Elipsoidalna"
   ]
  },
  {
   "cell_type": "code",
   "execution_count": 22,
   "id": "3483cd82",
   "metadata": {},
   "outputs": [
    {
     "name": "stdout",
     "output_type": "stream",
     "text": [
      "Odległość między Warszawą a Rzymem: 1316.2 km\n"
     ]
    }
   ],
   "source": [
    "from qgis.core import QgsDistanceArea\n",
    "\n",
    "distance_area = QgsDistanceArea()\n",
    "distance_area.setEllipsoid(\"WGS84\")\n",
    "\n",
    "distance = distance_area.measureLine(pt1, pt2)\n",
    "distance = round(distance / 1000, 2) # wynik w km\n",
    "\n",
    "print(\"Odległość między Warszawą a Rzymem:\", distance, \"km\")"
   ]
  },
  {
   "cell_type": "markdown",
   "id": "15a68568",
   "metadata": {},
   "source": [
    "## Powierzchnia"
   ]
  },
  {
   "cell_type": "markdown",
   "id": "5fb9c42a",
   "metadata": {},
   "source": [
    "# Zadania:\n",
    "\n",
    "14) Zaimplementuj funkcję `decimal_to_dms()` umożliwiającą konwersję stopni dziesiętnych na wartość DMS. Pamiętaj, aby zwrócona wartość posiadała odpowiedni kierunek geograficzny.\n",
    "15) Zaimplementuj [wzór haversine](https://en.wikipedia.org/wiki/Haversine_formula#Formulation) i porównaj z innymi otrzymanymi wynikami na przykładzie odległości pomiędzy Warszawą a Rzymem. Wartości wyrażone w stopniach muszą zostać zamienione na radiany."
   ]
  },
  {
   "cell_type": "markdown",
   "id": "1a5ed5f5",
   "metadata": {},
   "source": [
    "Notatki:\n",
    "\n",
    "- odległość euklidesowa bazuje na twierdzeniu Pitagorasa,\n",
    "- nie ma sensu używać odległości euklidesowej do obliczeń kątowych (w stopniach)."
   ]
  }
 ],
 "metadata": {
  "kernelspec": {
   "display_name": "Python 3 (ipykernel)",
   "language": "python",
   "name": "python3"
  },
  "language_info": {
   "codemirror_mode": {
    "name": "ipython",
    "version": 3
   },
   "file_extension": ".py",
   "mimetype": "text/x-python",
   "name": "python",
   "nbconvert_exporter": "python",
   "pygments_lexer": "ipython3",
   "version": "3.12.7"
  },
  "subtitle": "Obliczenia geodezyjne",
  "title": "Algorytmy danych geoprzestrzennych"
 },
 "nbformat": 4,
 "nbformat_minor": 5
}
