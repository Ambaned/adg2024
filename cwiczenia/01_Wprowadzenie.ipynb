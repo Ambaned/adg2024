{
 "cells": [
  {
   "cell_type": "markdown",
   "id": "c7b4c6f4",
   "metadata": {
    "editable": true,
    "slideshow": {
     "slide_type": ""
    },
    "tags": []
   },
   "source": [
    "# Algorytmy danych geoprzestrzennych\n",
    "## Wprowadzenie do Pythona\n",
    "\n",
    "## Krzysztof Dyba"
   ]
  },
  {
   "cell_type": "markdown",
   "id": "7f61c4de",
   "metadata": {},
   "source": [
    "Python to interpretowany język programowania wysokiego poziomu, powszechnie stosowany w różnych zastosowaniach takich jak tworzenie stron internetowych, analiza danych i uczenie maszynowe, pisanie skryptów i automatyzacja procesów czy zarządzenie systemami (*DevOps*). Jest także używany w systemach informacji geograficznej do przetwarzania i analizowania danych przestrzennych. Jest aktualnie najpopularniejszym językiem programowania."
   ]
  },
  {
   "cell_type": "markdown",
   "id": "206deaff",
   "metadata": {},
   "source": [
    "Cechy języka Python:\n",
    "- darmowy i otwarty,\n",
    "- język interpretowany (kod wykonywany jest linia po linii, bez potrzeby kompilacji),\n",
    "- język wysokiego poziomu (pominięcie aspektów związanych z zarządzaniem pamięcią),\n",
    "- dynamiczne typowanie (zmienne nie wymagają jawnych deklaracji przed użyciem),\n",
    "- wsparcie dwóch paradygmatów programowania, tj. obiektowego i funkcjonalnego,\n",
    "- duży ekosystem (biblioteki, wsparcie, tutoriale),\n",
    "- indeksowanie od 0."
   ]
  },
  {
   "cell_type": "markdown",
   "id": "86ad0fec",
   "metadata": {},
   "source": [
    "## Przegląd możliwości\n",
    "\n",
    "W tej sekcji znajdziesz błyskawiczny przegląd możliwości Pythona. Pełna wersja tutorialu w języku angielskim dostępna jest [tutaj](https://docs.python.org/3/tutorial/)."
   ]
  },
  {
   "cell_type": "markdown",
   "id": "ae0a61fe",
   "metadata": {},
   "source": [
    "### Zmienne\n",
    "\n",
    "Do przypisania wartości do zmiennej stostuje się znak równości `=`."
   ]
  },
  {
   "cell_type": "code",
   "execution_count": 2,
   "id": "c0605434",
   "metadata": {},
   "outputs": [],
   "source": [
    "x = 5\n",
    "y = \"parasol\""
   ]
  },
  {
   "cell_type": "markdown",
   "id": "af601009",
   "metadata": {
    "editable": true,
    "slideshow": {
     "slide_type": ""
    },
    "tags": []
   },
   "source": [
    "Utworzone zmienne można wyświetlić używając funkcji `print()`."
   ]
  },
  {
   "cell_type": "code",
   "execution_count": 2,
   "id": "3f61d50d",
   "metadata": {},
   "outputs": [
    {
     "name": "stdout",
     "output_type": "stream",
     "text": [
      "5\n",
      "parasol\n"
     ]
    }
   ],
   "source": [
    "print(x)\n",
    "print(y)"
   ]
  },
  {
   "cell_type": "markdown",
   "id": "aadaf397",
   "metadata": {},
   "source": [
    "### Typy danych\n",
    "\n",
    "Domyślnie wspierane są między innymi następujące typych danych:\n",
    "\n",
    "- liczba całkowita **int** (np. -10, 0, 10),\n",
    "- liczba zmiennoprzecinkowa **float** (np. 0.01, 21.37),\n",
    "- łańcuchy tekstu **str** (np. \"Ala ma kota.\", 'rower'),\n",
    "- wartości logiczne **bool** (True, False),\n",
    "- lista,\n",
    "- słownik.\n",
    "\n",
    "Do sprawdzenia typu danych służy funkcja `type()`."
   ]
  },
  {
   "cell_type": "code",
   "execution_count": 3,
   "id": "f20a0290",
   "metadata": {},
   "outputs": [
    {
     "data": {
      "text/plain": [
       "int"
      ]
     },
     "execution_count": 3,
     "metadata": {},
     "output_type": "execute_result"
    }
   ],
   "source": [
    "type(10)"
   ]
  },
  {
   "cell_type": "code",
   "execution_count": 4,
   "id": "f04d9542",
   "metadata": {},
   "outputs": [
    {
     "data": {
      "text/plain": [
       "float"
      ]
     },
     "execution_count": 4,
     "metadata": {},
     "output_type": "execute_result"
    }
   ],
   "source": [
    "type(0.01)"
   ]
  },
  {
   "cell_type": "code",
   "execution_count": 5,
   "id": "32f49015",
   "metadata": {},
   "outputs": [
    {
     "data": {
      "text/plain": [
       "str"
      ]
     },
     "execution_count": 5,
     "metadata": {},
     "output_type": "execute_result"
    }
   ],
   "source": [
    "type(\"Ala ma kota.\")"
   ]
  },
  {
   "cell_type": "code",
   "execution_count": 6,
   "id": "f4df4edd",
   "metadata": {},
   "outputs": [
    {
     "data": {
      "text/plain": [
       "bool"
      ]
     },
     "execution_count": 6,
     "metadata": {},
     "output_type": "execute_result"
    }
   ],
   "source": [
    "type(False)"
   ]
  },
  {
   "cell_type": "markdown",
   "id": "de2c2857",
   "metadata": {},
   "source": [
    "Możemy również dokonać konwersji między typami:\n",
    "- z liczby zmiennoprzecinkowej na całkowitą (część dziesiętna zostaje usunięta!),\n",
    "- z liczby całkowitej na zmiennoprzecinkową,\n",
    "- z liczby na tekst i na na odwrót."
   ]
  },
  {
   "cell_type": "code",
   "execution_count": 12,
   "id": "95625fb0",
   "metadata": {},
   "outputs": [
    {
     "name": "stdout",
     "output_type": "stream",
     "text": [
      "3\n",
      "3\n"
     ]
    }
   ],
   "source": [
    "# konwersja liczby zmiennoprzecinkowej na całkowitą\n",
    "print(int(3.14))\n",
    "print(int(3.99))"
   ]
  },
  {
   "cell_type": "code",
   "execution_count": 13,
   "id": "31a395a6",
   "metadata": {},
   "outputs": [
    {
     "data": {
      "text/plain": [
       "'10'"
      ]
     },
     "execution_count": 13,
     "metadata": {},
     "output_type": "execute_result"
    }
   ],
   "source": [
    "# konwersja tekstu na liczbę\n",
    "str(10)"
   ]
  },
  {
   "cell_type": "markdown",
   "id": "2c5ba9ef",
   "metadata": {},
   "source": [
    "### Struktury danych\n",
    "\n",
    "Do podstawowych struktur danych należą:\n",
    "\n",
    "- lista\n",
    "- słownik"
   ]
  },
  {
   "cell_type": "markdown",
   "id": "a43d931f",
   "metadata": {},
   "source": [
    "#### Lista"
   ]
  },
  {
   "cell_type": "markdown",
   "id": "67427a1f",
   "metadata": {},
   "source": [
    "#### Słownik"
   ]
  },
  {
   "cell_type": "markdown",
   "id": "216ade26",
   "metadata": {},
   "source": [
    "### Operatory\n",
    "\n",
    "#### Arytmetyczne\n",
    "\n",
    "#### Porównania"
   ]
  },
  {
   "cell_type": "markdown",
   "id": "c3e59aec",
   "metadata": {},
   "source": [
    "### Instrukcje warunkowe"
   ]
  },
  {
   "cell_type": "markdown",
   "id": "674f787a",
   "metadata": {},
   "source": [
    "### Pętle"
   ]
  },
  {
   "cell_type": "markdown",
   "id": "aa4b3013",
   "metadata": {},
   "source": [
    "### Funkcje"
   ]
  },
  {
   "cell_type": "markdown",
   "id": "34b66d7e",
   "metadata": {},
   "source": [
    "### Obsługa wyjątków"
   ]
  },
  {
   "cell_type": "markdown",
   "id": "72119e90",
   "metadata": {},
   "source": [
    "## Zadania:\n",
    "\n",
    "1. Napisz pętlę z instrukcjami warunkowymi ... (???????)\n",
    "\n",
    "2. Napisz funkcję, która zamienia kilogramy (kg) na funty (lb) oraz na odwrót.\n",
    "\n",
    "3. Napisz funkcję, która sprawdzi czy dany rok jest przestępny. Rok jest przestępny, gdy jest podzielny przez 4 i nie jest podzielny przez 100 lub jest podzielny przez 400. Przykładowo lata 2000 i 2004 były przestępne, natomiast lata 1990, 2010 czy 2021 nie były."
   ]
  }
 ],
 "metadata": {
  "kernelspec": {
   "display_name": "Python 3 (ipykernel)",
   "language": "python",
   "name": "python3"
  },
  "language_info": {
   "codemirror_mode": {
    "name": "ipython",
    "version": 3
   },
   "file_extension": ".py",
   "mimetype": "text/x-python",
   "name": "python",
   "nbconvert_exporter": "python",
   "pygments_lexer": "ipython3",
   "version": "3.12.7"
  }
 },
 "nbformat": 4,
 "nbformat_minor": 5
}
