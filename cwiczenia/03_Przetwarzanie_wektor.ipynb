{
 "cells": [
  {
   "cell_type": "markdown",
   "id": "338ad554",
   "metadata": {},
   "source": [
    "<font size=\"5\">**Algorytmy danych geoprzestrzennych**</font><br>\n",
    "<font size=\"4\">Przetwarzanie danych wektorowych</font>\n",
    "\n",
    "<font size=\"4\">Krzysztof Dyba</font>"
   ]
  },
  {
   "cell_type": "code",
   "execution_count": 4,
   "id": "4ef0e5bb",
   "metadata": {},
   "outputs": [
    {
     "name": "stdout",
     "output_type": "stream",
     "text": [
      "True\n"
     ]
    }
   ],
   "source": [
    "import os\n",
    "from qgis.core import QgsVectorLayer\n",
    "\n",
    "# wczytanie warstwy wektorowej\n",
    "sciezka_do_pliku = os.path.join(\"algorytmy-geoprzestrzenne\", \"dane\", \"powiaty.gpkg\")\n",
    "wektor = QgsVectorLayer(sciezka_do_pliku, \"powiaty\", \"ogr\")\n",
    "print(wektor.isValid())"
   ]
  },
  {
   "cell_type": "code",
   "execution_count": 44,
   "id": "bac5d526",
   "metadata": {},
   "outputs": [
    {
     "name": "stdout",
     "output_type": "stream",
     "text": [
      "35\n",
      "6\n",
      "['fid', 'JPT_KOD_JE', 'JPT_NAZWA_', 'IIP_IDENTY', 'IIP_WERSJA', 'pole_km2']\n"
     ]
    }
   ],
   "source": [
    "print(wektor.featureCount())\n",
    "print(wektor.fields().count())\n",
    "print(wektor.fields().names())"
   ]
  },
  {
   "cell_type": "markdown",
   "id": "f2821145",
   "metadata": {},
   "source": [
    "# Dostęp do obiektów"
   ]
  },
  {
   "cell_type": "code",
   "execution_count": 38,
   "id": "e720f824",
   "metadata": {},
   "outputs": [
    {
     "name": "stdout",
     "output_type": "stream",
     "text": [
      "[1, '3012', 'powiat krotoszyński', 'dc54ce6a-5272-45fc-a49c-824dbf170f2c', '2024-09-05T13:41:42+02:00', 712.7437283077061]\n",
      "[2, '3002', 'powiat czarnkowsko-trzcianecki', 'b2e00ebb-412b-4ae8-9afc-fe68f65bb1ac', '2021-05-11T10:49:15+02:00', 1806.6288683868954]\n",
      "[3, '3009', 'powiat kolski', '06a4a975-dc89-4ac3-9d51-cf188532908a', '2012-09-27T08:59:03+02:00', 1009.273272845488]\n",
      "[4, '3029', 'powiat wolsztyński', '6f988fb3-2b2c-467e-9d07-c512d9215c05', '2024-08-27T13:56:13+02:00', 679.340479768619]\n",
      "[5, '3026', 'powiat śremski', '2fc58bb6-d095-4f37-8f10-874797cb97fb', '2024-09-03T13:42:56+02:00', 573.5639814826102]\n"
     ]
    }
   ],
   "source": [
    "from itertools import islice\n",
    "\n",
    "# iteracja po obiektach\n",
    "for feature in islice(wektor.getFeatures(), 5):\n",
    "    # dostęp do atrybutów obiektów\n",
    "    attrs = feature.attributes()\n",
    "    # dostęp do geometrii obiektów\n",
    "    geom = feature.geometry()\n",
    "    \n",
    "    print(attrs)\n",
    "    # print(geom)"
   ]
  },
  {
   "cell_type": "markdown",
   "id": "5c7b2a9a",
   "metadata": {},
   "source": [
    "# Obliczanie powierzchni\n",
    "\n",
    "W celu obliczenia powierzchni poligonów musimy wykonać pętle po wszystkich obiektach znajdujących się w warstwie i uzyskać dostęp do ich geometrii. Następnie, należy wykorzystać metodę `area()`, która oblicza pole powierzchni w jednostkach układu współrzędnych warstwy (zazwyczaj są to metry kwadratowe) w układzie planarnym (kartezjańskim). Opcjonalnie, możemy dokonać konwersji jednostek, np. na kilometry kwadratowe czy hektary. W niniejszym przykładzie wszystkie obiekty w warstwie posiadają geometrie."
   ]
  },
  {
   "cell_type": "code",
   "execution_count": 33,
   "id": "db34de4a",
   "metadata": {},
   "outputs": [
    {
     "name": "stdout",
     "output_type": "stream",
     "text": [
      "712.7437283077061\n",
      "1806.6288683868954\n",
      "1009.273272845488\n",
      "679.340479768619\n",
      "573.5639814826102\n"
     ]
    }
   ],
   "source": [
    "for feature in islice(wektor.getFeatures(), 5):\n",
    "    area = feature.geometry().area()\n",
    "    area = area / 1000**2 # konwersja na km^2\n",
    "    print(area)"
   ]
  },
  {
   "cell_type": "markdown",
   "id": "026ece3f",
   "metadata": {},
   "source": [
    "# Dodawanie atrybutów"
   ]
  },
  {
   "cell_type": "code",
   "execution_count": 7,
   "id": "07a4a9d4",
   "metadata": {},
   "outputs": [
    {
     "data": {
      "text/plain": [
       "True"
      ]
     },
     "execution_count": 7,
     "metadata": {},
     "output_type": "execute_result"
    }
   ],
   "source": [
    "from qgis.core import QgsField\n",
    "from qgis.PyQt.QtCore import QMetaType\n",
    "\n",
    "# dodanie nowego atrybutu do tabeli\n",
    "new_field = QgsField(\"pole_km2\", QMetaType.Type.Double) # typ zmiennoprzecinkowy\n",
    "wektor.dataProvider().addAttributes([new_field])\n",
    "wektor.updateFields()\n",
    "\n",
    "# rozpoczęcie trybu edycji warstwy\n",
    "wektor.startEditing()\n",
    "\n",
    "# indeks nowego atrybutu\n",
    "area_idx = wektor.fields().indexOf(\"pole_km2\")\n",
    "\n",
    "# obliczenie powierzchni dla każdego obiektu\n",
    "for feature in wektor.getFeatures():\n",
    "    area = feature.geometry().area()\n",
    "    area = area / 1000**2\n",
    "    # wprowadzenie wartości do atrybutu obiektu\n",
    "    wektor.changeAttributeValue(feature.id(), area_idx, area)\n",
    "\n",
    "# zapisanie zmian\n",
    "wektor.commitChanges()"
   ]
  },
  {
   "cell_type": "code",
   "execution_count": 34,
   "id": "34512e3f",
   "metadata": {},
   "outputs": [
    {
     "name": "stdout",
     "output_type": "stream",
     "text": [
      "True\n",
      "712.7437283077061\n",
      "1806.6288683868954\n",
      "1009.273272845488\n",
      "679.340479768619\n",
      "573.5639814826102\n"
     ]
    }
   ],
   "source": [
    "# weryfikacja\n",
    "print(\"pole_km2\" in wektor.fields().names())\n",
    "\n",
    "for feature in islice(wektor.getFeatures(), 5):\n",
    "    print(feature.attribute(\"pole_km2\"))"
   ]
  },
  {
   "cell_type": "markdown",
   "id": "fdc2c002",
   "metadata": {},
   "source": [
    "# Wybieranie obiektów\n",
    "\n",
    "## Atrybut\n",
    "\n",
    "W zasadzie są dwa sposoby: `selectByExpression`, `QgsFeatureRequest`."
   ]
  },
  {
   "cell_type": "code",
   "execution_count": 40,
   "id": "594c45b2",
   "metadata": {},
   "outputs": [
    {
     "name": "stdout",
     "output_type": "stream",
     "text": [
      "4\n"
     ]
    }
   ],
   "source": [
    "# zapytanie\n",
    "expression = '\"pole_km2\" > 1300'\n",
    "\n",
    "# Use QgsFeatureRequest with the expression\n",
    "wektor.selectByExpression(expression)\n",
    "\n",
    "selected_features = wektor.selectedFeatures()\n",
    "print(len(selected_features)) # liczba obiektów\n",
    "\n",
    "for feature in selected_features:\n",
    "    pass\n",
    "    # print(feature.id()) # ID obiektów"
   ]
  },
  {
   "cell_type": "code",
   "execution_count": null,
   "id": "9f18cd67",
   "metadata": {},
   "outputs": [],
   "source": [
    "# wybierz obiekty na mapie (działa tylko w QGIS)\n",
    "# from qgis.core import QgsProject\n",
    "# QgsProject.instance().addMapLayer(wektor)\n",
    "# wektor.selectByIds([feature.id() for feature in selected_features])"
   ]
  },
  {
   "cell_type": "code",
   "execution_count": 31,
   "id": "3db8daa3",
   "metadata": {},
   "outputs": [],
   "source": [
    "from qgis.core import QgsExpression, QgsFeatureRequest\n",
    "\n",
    "expression = QgsExpression('\"pole_km2\" > 1300')\n",
    "\n",
    "request = QgsFeatureRequest(expression)\n",
    "selected_features = wektor.getFeatures(request)\n",
    "for feature in selected_features:\n",
    "    pass\n",
    "    # print(feature.attributes())"
   ]
  },
  {
   "cell_type": "code",
   "execution_count": 30,
   "id": "c464078c",
   "metadata": {},
   "outputs": [],
   "source": [
    "from qgis.core import QgsFeatureRequest\n",
    "\n",
    "expression = '\"pole_km2\" > 1300'\n",
    "\n",
    "# stworzenie żądania używając zapytania\n",
    "request = QgsFeatureRequest().setFilterExpression(expression)\n",
    "\n",
    "for feature in wektor.getFeatures(request):\n",
    "    pass\n",
    "    # print(feature.attributes())"
   ]
  },
  {
   "cell_type": "markdown",
   "id": "40aca8eb",
   "metadata": {},
   "source": [
    "## Lokalizacja"
   ]
  },
  {
   "cell_type": "code",
   "execution_count": 13,
   "id": "72f45263",
   "metadata": {},
   "outputs": [],
   "source": [
    "from qgis.core import QgsRectangle\n",
    "\n",
    "# wybierz obiekty używając prostokątu\n",
    "rect = QgsRectangle(340000, 490000, 380000, 520000) # xmin, ymin, xmax, ymax\n",
    "wektor.selectByRect(rect)\n",
    "\n",
    "selected_features = wektor.selectedFeatures()\n",
    "for feature in selected_features:\n",
    "    pass\n",
    "    # print(feature.attributes())"
   ]
  },
  {
   "cell_type": "markdown",
   "id": "e5d662e0",
   "metadata": {},
   "source": [
    "# Tworzenie nowej warstwy"
   ]
  },
  {
   "cell_type": "code",
   "execution_count": 23,
   "id": "c204494f",
   "metadata": {},
   "outputs": [
    {
     "name": "stdout",
     "output_type": "stream",
     "text": [
      "True\n"
     ]
    }
   ],
   "source": [
    "from qgis.core import QgsGeometry\n",
    "\n",
    "# typ geometrii i układ współrzędnych\n",
    "geometry_type = \"Polygon\"\n",
    "crs = \"EPSG:2180\"\n",
    "\n",
    "# stwórz nową warstwę wektorową\n",
    "layer = QgsVectorLayer(geometry_type+\"?crs=\"+crs, \"Nowa warstwa\", \"memory\")\n",
    "print(layer.isValid())\n",
    "\n",
    "# rozpoczęcie trybu edycji warstwy\n",
    "layer.startEditing()\n",
    "\n",
    "# stwórz atrybuty\n",
    "fields = [\n",
    "    QgsField(\"ID\", QMetaType.Type.Int),          # ID obiektu\n",
    "    QgsField(\"nazwa\", QMetaType.Type.QString),   # nazwa obiektu\n",
    "    QgsField(\"wartosc\", QMetaType.Type.Double),  # wartość\n",
    "]\n",
    "\n",
    "# dodaj atrybuty do warstwy\n",
    "provider = layer.dataProvider()\n",
    "provider.addAttributes(fields)\n",
    "layer.updateFields()\n",
    "\n",
    "# stwórz obiekt i uzupełnij atrybut\n",
    "feature = QgsFeature()\n",
    "polygon_wkt = QgsGeometry.fromRect(rect).asWkt()\n",
    "polygon_geometry = QgsGeometry.fromWkt(polygon_wkt)\n",
    "feature.setGeometry(polygon_geometry)\n",
    "feature.setAttributes([1, \"Prostokąt\", 999])\n",
    "\n",
    "# dodaj obiekt do warstwy\n",
    "layer.addFeature(feature)\n",
    "# zaktualizuj zasięg warstwy\n",
    "layer.updateExtents()\n",
    "\n",
    "# zapisanie zmian\n",
    "layer.commitChanges()\n",
    "\n",
    "# wyświetlenie w QGIS\n",
    "# QgsProject.instance().addMapLayer(layer)"
   ]
  },
  {
   "cell_type": "markdown",
   "id": "71fde520",
   "metadata": {},
   "source": [
    "# Łączenie obiektów (dissolve)\n",
    "\n",
    "De facto można zrobić to na dwa sposoby:\n",
    "1. pętla\n",
    "2. `processing.run(\"native:dissolve\", parameters)`"
   ]
  },
  {
   "cell_type": "code",
   "execution_count": null,
   "id": "342e4e48",
   "metadata": {},
   "outputs": [],
   "source": []
  },
  {
   "cell_type": "markdown",
   "id": "60e7034b",
   "metadata": {},
   "source": [
    "# Tworzenie buforów\n",
    "\n",
    "To też można zrobić na dwa sposoby."
   ]
  },
  {
   "cell_type": "code",
   "execution_count": 9,
   "id": "ae9e052f",
   "metadata": {},
   "outputs": [],
   "source": [
    "from qgis.core import QgsFeature\n",
    "\n",
    "# stworzenie pustej warstwy w pamięci\n",
    "buffer_layer = QgsVectorLayer(\"Polygon?crs=\" + wektor.crs().authid(), \"Bufor\", \"memory\")\n",
    "buffer_provider = buffer_layer.dataProvider()\n",
    "\n",
    "# odległość buforu w jednostkach warstwy (m)\n",
    "buffer_distance = 1000.0\n",
    "\n",
    "features = []\n",
    "for feature in wektor.getFeatures():\n",
    "    geom = feature.geometry()\n",
    "    # stworzenie geometrii bufora\n",
    "    buffer_geom = geom.buffer(buffer_distance, segments = 30)\n",
    "    # stworzenie nowego obiektu\n",
    "    buffer_feature = QgsFeature()\n",
    "    # ustawienie geometrii\n",
    "    buffer_feature.setGeometry(buffer_geom)\n",
    "    # dodanie obiektu do listy\n",
    "    features.append(buffer_feature)\n",
    "\n",
    "# dodanie buforów do warstwy wektorowej\n",
    "buffer_provider.addFeatures(features)\n",
    "buffer_layer.updateExtents()\n",
    "\n",
    "# wyświetlenie w QGIS\n",
    "# QgsProject.instance().addMapLayer(buffer_layer)"
   ]
  },
  {
   "cell_type": "markdown",
   "id": "81a7b234",
   "metadata": {},
   "source": [
    "ZADANIA:\n",
    "- oblicz długość granic i dodaj jako nowy atrybut do warstwy\n",
    "- napisz funkcję, która obliczy podstawowe statystki opisowe i zastosuj ją dla powierzchni oraz długości\n",
    "- stwórz nową warstwę z obliczonymi centroidami dla powiatów"
   ]
  },
  {
   "cell_type": "markdown",
   "id": "386f049d",
   "metadata": {},
   "source": [
    "TODO:\n",
    "- Buffering Features (Buffer Creation)\n",
    "- Reprojecting Layer\n",
    "- Use QGIS vector tools (Processing Toolbox)"
   ]
  }
 ],
 "metadata": {
  "kernelspec": {
   "display_name": "Python 3 (ipykernel)",
   "language": "python",
   "name": "python3"
  },
  "language_info": {
   "codemirror_mode": {
    "name": "ipython",
    "version": 3
   },
   "file_extension": ".py",
   "mimetype": "text/x-python",
   "name": "python",
   "nbconvert_exporter": "python",
   "pygments_lexer": "ipython3",
   "version": "3.12.7"
  },
  "subtitle": "Przetwarzanie danych wektorowych",
  "title": "Algorytmy danych geoprzestrzennych"
 },
 "nbformat": 4,
 "nbformat_minor": 5
}
