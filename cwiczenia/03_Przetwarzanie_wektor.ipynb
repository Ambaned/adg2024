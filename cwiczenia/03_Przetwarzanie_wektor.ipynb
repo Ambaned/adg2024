{
 "cells": [
  {
   "cell_type": "markdown",
   "id": "338ad554",
   "metadata": {},
   "source": [
    "<font size=\"5\">**Algorytmy danych geoprzestrzennych**</font><br>\n",
    "<font size=\"4\">Przetwarzanie danych wektorowych</font>\n",
    "\n",
    "<font size=\"4\">Krzysztof Dyba</font>"
   ]
  },
  {
   "cell_type": "code",
   "execution_count": 1,
   "id": "4ef0e5bb",
   "metadata": {},
   "outputs": [
    {
     "name": "stdout",
     "output_type": "stream",
     "text": [
      "True\n"
     ]
    }
   ],
   "source": [
    "import os\n",
    "from qgis.core import QgsVectorLayer\n",
    "\n",
    "# wczytanie warstwy wektorowej\n",
    "sciezka_do_pliku = os.path.join(\"algorytmy-geoprzestrzenne\", \"dane\", \"powiaty.gpkg\")\n",
    "wektor = QgsVectorLayer(sciezka_do_pliku, \"powiaty\", \"ogr\")\n",
    "print(wektor.isValid())"
   ]
  },
  {
   "cell_type": "markdown",
   "id": "f2821145",
   "metadata": {},
   "source": [
    "# Dostęp do obiektów"
   ]
  },
  {
   "cell_type": "code",
   "execution_count": 38,
   "id": "e720f824",
   "metadata": {},
   "outputs": [
    {
     "name": "stdout",
     "output_type": "stream",
     "text": [
      "[1, '3012', 'powiat krotoszyński', 'dc54ce6a-5272-45fc-a49c-824dbf170f2c', '2024-09-05T13:41:42+02:00', 712.7437283077061]\n",
      "[2, '3002', 'powiat czarnkowsko-trzcianecki', 'b2e00ebb-412b-4ae8-9afc-fe68f65bb1ac', '2021-05-11T10:49:15+02:00', 1806.6288683868954]\n",
      "[3, '3009', 'powiat kolski', '06a4a975-dc89-4ac3-9d51-cf188532908a', '2012-09-27T08:59:03+02:00', 1009.273272845488]\n",
      "[4, '3029', 'powiat wolsztyński', '6f988fb3-2b2c-467e-9d07-c512d9215c05', '2024-08-27T13:56:13+02:00', 679.340479768619]\n",
      "[5, '3026', 'powiat śremski', '2fc58bb6-d095-4f37-8f10-874797cb97fb', '2024-09-03T13:42:56+02:00', 573.5639814826102]\n"
     ]
    }
   ],
   "source": [
    "from itertools import islice\n",
    "\n",
    "# iteracja po obiektach\n",
    "for feature in islice(wektor.getFeatures(), 5):\n",
    "    # dostęp do atrybutów obiektów\n",
    "    attrs = feature.attributes()\n",
    "    # dostęp do geometrii obiektów\n",
    "    geom = feature.geometry()\n",
    "    \n",
    "    print(attrs)\n",
    "    # print(geom)"
   ]
  },
  {
   "cell_type": "markdown",
   "id": "5c7b2a9a",
   "metadata": {},
   "source": [
    "# Obliczanie powierzchni poligonów\n",
    "\n",
    "W celu obliczenia powierzchni poligonów musimy wykonać pętle po wszystkich obiektach znajdujących się w warstwie i uzyskać dostęp do ich geometrii. Następnie, należy wykorzystać metodę `area()`, która oblicza pole powierzchni w jednostkach układu współrzędnych warstwy (zazwyczaj są to metry kwadratowe). Opcjonalnie, możemy dokonać konwersji jednostek, np. na kilometry kwadratowe czy hektary. W niniejszym przykładzie zakładamy, że wszystkie obiekty w warstwie posiadają geometrie."
   ]
  },
  {
   "cell_type": "code",
   "execution_count": 33,
   "id": "db34de4a",
   "metadata": {},
   "outputs": [
    {
     "name": "stdout",
     "output_type": "stream",
     "text": [
      "712.7437283077061\n",
      "1806.6288683868954\n",
      "1009.273272845488\n",
      "679.340479768619\n",
      "573.5639814826102\n"
     ]
    }
   ],
   "source": [
    "for feature in islice(wektor.getFeatures(), 5):\n",
    "    area = feature.geometry().area()\n",
    "    area = area / 1000**2 # konwersja na km^2\n",
    "    print(area)"
   ]
  },
  {
   "cell_type": "markdown",
   "id": "026ece3f",
   "metadata": {},
   "source": [
    "# Dodawanie atrybutów"
   ]
  },
  {
   "cell_type": "code",
   "execution_count": 7,
   "id": "07a4a9d4",
   "metadata": {},
   "outputs": [
    {
     "data": {
      "text/plain": [
       "True"
      ]
     },
     "execution_count": 7,
     "metadata": {},
     "output_type": "execute_result"
    }
   ],
   "source": [
    "from qgis.core import QgsField\n",
    "from qgis.PyQt.QtCore import QMetaType\n",
    "\n",
    "# dodanie nowego atrybutu do tabeli\n",
    "new_field = QgsField(\"pole_km2\", QMetaType.Type.Double) # typ zmiennoprzecinkowy\n",
    "wektor.dataProvider().addAttributes([new_field])\n",
    "wektor.updateFields()\n",
    "\n",
    "# rozpoczęcie trybu edycji warstwy\n",
    "wektor.startEditing()\n",
    "\n",
    "# indeks nowego atrybutu\n",
    "area_idx = wektor.fields().indexOf(\"pole_km2\")\n",
    "\n",
    "# obliczenie powierzchni dla każdego obiektu\n",
    "for feature in wektor.getFeatures():\n",
    "    area = feature.geometry().area()\n",
    "    area = area / 1000**2\n",
    "    # wprowadzenie wartości do atrybutu obiektu\n",
    "    wektor.changeAttributeValue(feature.id(), area_idx, area)\n",
    "\n",
    "# zapisanie zmian\n",
    "wektor.commitChanges()"
   ]
  },
  {
   "cell_type": "code",
   "execution_count": 34,
   "id": "34512e3f",
   "metadata": {},
   "outputs": [
    {
     "name": "stdout",
     "output_type": "stream",
     "text": [
      "True\n",
      "712.7437283077061\n",
      "1806.6288683868954\n",
      "1009.273272845488\n",
      "679.340479768619\n",
      "573.5639814826102\n"
     ]
    }
   ],
   "source": [
    "# weryfikacja\n",
    "print(\"pole_km2\" in wektor.fields().names())\n",
    "\n",
    "for feature in islice(wektor.getFeatures(), 5):\n",
    "    print(feature.attribute(\"pole_km2\"))"
   ]
  },
  {
   "cell_type": "markdown",
   "id": "fdc2c002",
   "metadata": {},
   "source": [
    "# Wybieranie obiektów używając:\n",
    "## Atrybutów\n",
    "\n",
    "W zasadzie są dwa sposoby: `selectByExpression`, `QgsFeatureRequest`.\n",
    "\n",
    "## Lokalizacji"
   ]
  },
  {
   "cell_type": "code",
   "execution_count": 36,
   "id": "594c45b2",
   "metadata": {},
   "outputs": [
    {
     "name": "stdout",
     "output_type": "stream",
     "text": [
      "12\n"
     ]
    }
   ],
   "source": [
    "# zapytanie\n",
    "expression = '\"pole_km2\" > 1000'\n",
    "\n",
    "# Use QgsFeatureRequest with the expression\n",
    "wektor.selectByExpression(expression)\n",
    "\n",
    "selected_features = wektor.selectedFeatures()\n",
    "print(len(selected_features)) # liczba obiektów\n",
    "\n",
    "for feature in selected_features:\n",
    "    pass\n",
    "    # print(feature.id()) # ID obiektów\n",
    "\n",
    "# wybierz obiekty na mapie (działa tylko w QGIS)\n",
    "# warstwa.selectByIds([feature.id() for feature in selected_features])"
   ]
  },
  {
   "cell_type": "code",
   "execution_count": 31,
   "id": "3db8daa3",
   "metadata": {},
   "outputs": [],
   "source": [
    "from qgis.core import QgsExpression, QgsFeatureRequest\n",
    "\n",
    "expression = QgsExpression('\"pole_km2\" > 1000')\n",
    "\n",
    "request = QgsFeatureRequest(expression)\n",
    "selected_features = wektor.getFeatures(request)\n",
    "for feature in selected_features:\n",
    "    pass\n",
    "    # print(feature.attributes())"
   ]
  },
  {
   "cell_type": "code",
   "execution_count": 30,
   "id": "c464078c",
   "metadata": {},
   "outputs": [],
   "source": [
    "from qgis.core import QgsFeatureRequest\n",
    "\n",
    "expression = '\"pole_km2\" > 1000'\n",
    "\n",
    "# stworzenie żądania używając zapytania\n",
    "request = QgsFeatureRequest().setFilterExpression(expression)\n",
    "\n",
    "for feature in wektor.getFeatures(request):\n",
    "    pass\n",
    "    # print(feature.attributes())"
   ]
  },
  {
   "cell_type": "markdown",
   "id": "81a7b234",
   "metadata": {},
   "source": [
    "ZADANIA:\n",
    "- oblicz długość granic i dodaj jako nowy atrybut do warstwy\n",
    "- oblicz statystki opisowe powierzchni oraz długości\n",
    "- stwórz nową warstwę z obliczonymi centroidami dla powiatów"
   ]
  },
  {
   "cell_type": "markdown",
   "id": "386f049d",
   "metadata": {},
   "source": [
    "TODO:\n",
    "- Selecting Features by Attribute and Localization\n",
    "- Buffering Features (Buffer Creation)\n",
    "- Creating a New Vector Layer (programmatically)\n",
    "- Reprojecting Layer\n",
    "- Use QGIS vector tools"
   ]
  }
 ],
 "metadata": {
  "kernelspec": {
   "display_name": "Python 3 (ipykernel)",
   "language": "python",
   "name": "python3"
  },
  "language_info": {
   "codemirror_mode": {
    "name": "ipython",
    "version": 3
   },
   "file_extension": ".py",
   "mimetype": "text/x-python",
   "name": "python",
   "nbconvert_exporter": "python",
   "pygments_lexer": "ipython3",
   "version": "3.12.7"
  },
  "subtitle": "Przetwarzanie danych wektorowych",
  "title": "Algorytmy danych geoprzestrzennych"
 },
 "nbformat": 4,
 "nbformat_minor": 5
}
