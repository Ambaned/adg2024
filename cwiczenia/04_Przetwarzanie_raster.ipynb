{
 "cells": [
  {
   "cell_type": "markdown",
   "id": "338ad554",
   "metadata": {},
   "source": [
    "<font size=\"5\">**Algorytmy danych geoprzestrzennych**</font><br>\n",
    "<font size=\"4\">Przetwarzanie danych rastrowych</font>\n",
    "\n",
    "<font size=\"4\">Krzysztof Dyba</font>"
   ]
  },
  {
   "cell_type": "code",
   "execution_count": 1,
   "id": "6d6c1e52",
   "metadata": {},
   "outputs": [
    {
     "name": "stdout",
     "output_type": "stream",
     "text": [
      "True\n"
     ]
    }
   ],
   "source": [
    "import os\n",
    "from qgis.core import QgsRasterLayer\n",
    "\n",
    "# wczytanie rastra\n",
    "filepath = os.path.join(\"algorytmy-geoprzestrzenne\", \"dane\", \"DEM.tif\")\n",
    "raster = QgsRasterLayer(filepath, \"DEM\")\n",
    "print(raster.isValid())"
   ]
  },
  {
   "cell_type": "code",
   "execution_count": 2,
   "id": "deaadff7",
   "metadata": {},
   "outputs": [
    {
     "name": "stdout",
     "output_type": "stream",
     "text": [
      "Liczba kolumn (Szerokość): 533\n",
      "Liczba wierszy (Wysokość): 608\n",
      "Liczba komórek: 369664\n",
      "Liczba kanałów: 1\n",
      "Zakres: 253698.33,353734.36 : 520058.23,657570.76\n",
      "CRS: EPSG:2180\n"
     ]
    }
   ],
   "source": [
    "# wyświetlenie metadanych\n",
    "print(\"Liczba kolumn (Szerokość):\", raster.width())\n",
    "print(\"Liczba wierszy (Wysokość):\", raster.height())\n",
    "print(\"Liczba komórek:\", raster.height() * raster.height())\n",
    "print(\"Liczba kanałów:\", raster.bandCount())\n",
    "print(\"Zakres:\", raster.extent().toString(precision = 2))\n",
    "print(\"CRS:\", raster.crs().authid())"
   ]
  },
  {
   "cell_type": "markdown",
   "id": "9187cb57",
   "metadata": {},
   "source": [
    "# Odczyt wartości\n",
    "\n",
    "1. Dla punktu:\n",
    "- jeśli mamy wiele punktów i kilka kanałów, to oczywiście trzeba zastosować pętlę\n",
    "- układ współrzędnych rastra i punktów musi być jednakowy\n",
    "- alternatywnie można użyć `identify()`\n",
    "2. Dla bloku\n",
    "3. Cały raster"
   ]
  },
  {
   "cell_type": "code",
   "execution_count": 3,
   "id": "741eb3c8",
   "metadata": {},
   "outputs": [
    {
     "name": "stdout",
     "output_type": "stream",
     "text": [
      "(141.6381072998047, True)\n",
      "(nan, False)\n"
     ]
    }
   ],
   "source": [
    "from qgis.core import QgsPointXY\n",
    "\n",
    "point = QgsPointXY(389900, 507600)\n",
    "value = raster.dataProvider().sample(point, 1)\n",
    "print(value)\n",
    "\n",
    "# punkt jest poza zakresem rastra\n",
    "point = QgsPointXY(0, 0)\n",
    "value = raster.dataProvider().sample(point, 1)\n",
    "print(value)"
   ]
  },
  {
   "cell_type": "code",
   "execution_count": 4,
   "id": "79e5da23",
   "metadata": {},
   "outputs": [
    {
     "name": "stdout",
     "output_type": "stream",
     "text": [
      "True\n",
      "Liczba komórek: 7268\n"
     ]
    }
   ],
   "source": [
    "from qgis.core import QgsRectangle\n",
    "\n",
    "provider = raster.dataProvider()\n",
    "rect = QgsRectangle(346950, 454028, 393355, 493871) # xmin, ymin, xmax, ymax\n",
    "\n",
    "# określenie liczby kolumn i wierszy\n",
    "width = int(rect.width() / raster.rasterUnitsPerPixelX())\n",
    "height = int(rect.height() / raster.rasterUnitsPerPixelY())\n",
    "\n",
    "# pobranie wartości pikseli dla prostokąta\n",
    "block = provider.block(1, rect, width, height)\n",
    "print(block.isValid())\n",
    "print(\"Liczba komórek:\", block.width() * block.height())"
   ]
  },
  {
   "cell_type": "code",
   "execution_count": 5,
   "id": "bd1bf891",
   "metadata": {},
   "outputs": [
    {
     "name": "stdout",
     "output_type": "stream",
     "text": [
      "0 0 79.54\n",
      "0 1 83.73\n",
      "0 2 85.62\n",
      "1 0 78.35\n",
      "1 1 78.12\n",
      "1 2 80.94\n",
      "2 0 77.76\n",
      "2 1 78.12\n",
      "2 2 80.94\n"
     ]
    }
   ],
   "source": [
    "for x in range(0, 3): # block.width()\n",
    "    for y in range(0, 3): # block.height()\n",
    "        print(x, y, round(block.value(x, y), 2))"
   ]
  },
  {
   "cell_type": "markdown",
   "id": "55aa01a2",
   "metadata": {},
   "source": [
    "## Docinanie rastra\n",
    "\n",
    "Wczytany blok w rzeczywistości jest niczym innym jak rastrem dociętym przez zakres przestrzenny. Wynik tej operacji możemy zapisać na dysku."
   ]
  },
  {
   "cell_type": "code",
   "execution_count": 6,
   "id": "1c3ae60f",
   "metadata": {},
   "outputs": [
    {
     "name": "stdout",
     "output_type": "stream",
     "text": [
      "OK\n"
     ]
    }
   ],
   "source": [
    "from qgis.core import QgsRasterFileWriter, QgsRasterPipe, QgsCoordinateTransformContext\n",
    "\n",
    "pipe = QgsRasterPipe()\n",
    "provider = raster.dataProvider()\n",
    "pipe.set(provider.clone())\n",
    "\n",
    "writer = QgsRasterFileWriter(\"DEM_crop.tif\")\n",
    "writer.setCreateOptions([\"COMPRESS=LZW\"])\n",
    "writer.setOutputFormat('GTiff')\n",
    "\n",
    "status = writer.writeRaster(\n",
    "    pipe,\n",
    "    width,\n",
    "    height,\n",
    "    rect,\n",
    "    raster.crs(),\n",
    "    QgsCoordinateTransformContext()\n",
    ")\n",
    "\n",
    "if status != 0:\n",
    "    print(\"Błąd zapisu\")\n",
    "else: \n",
    "    print(\"OK\")"
   ]
  },
  {
   "cell_type": "code",
   "execution_count": 7,
   "id": "9c44b3ac",
   "metadata": {},
   "outputs": [
    {
     "name": "stdout",
     "output_type": "stream",
     "text": [
      "(608, 533)\n",
      "[[ 99.89686  117.18553  122.53293  132.92046 ]\n",
      " [104.782074 121.91743  122.99693  122.71936 ]\n",
      " [122.32443  120.56837   98.11017  105.36948 ]\n",
      " [100.51226  113.48083  120.141685 105.36948 ]]\n"
     ]
    }
   ],
   "source": [
    "import numpy as np\n",
    "\n",
    "extent = raster.extent()\n",
    "cols = raster.width()\n",
    "rows = raster.height()\n",
    "block = provider.block(1, extent, cols, rows)\n",
    "array = np.frombuffer(block.data(), dtype = np.float32)\n",
    "array = array.reshape(rows, cols)\n",
    "print(array.shape) # wiersze, kolumny\n",
    "print(array[100:104, 100:104])"
   ]
  },
  {
   "cell_type": "markdown",
   "id": "69edd6e1",
   "metadata": {},
   "source": [
    "# Algebra rastrów\n",
    "\n",
    "Klasa [QgsRasterCalculator](https://qgis.org/pyqgis/master/analysis/QgsRasterCalculator.html) umożliwia dostęp do [kalkulatora rastrów](https://docs.qgis.org/3.34/en/docs/user_manual/working_with_raster/raster_analysis.html) w QGIS. Dostępne są operatory matematyczne, trygonometryczne, porównania oraz logiczne (dzięki czemu możliwe jest zamaskowanie czy reklasyfikacja wartości).\n",
    "\n",
    "- jeśli mamy kilka rastrów, to muszą mieć takie same zasięgi oraz rozdzielczość\n",
    "\n",
    "- współczynnik przewyższenia żeby uwypuklić formy rzeźby terenu\n",
    "- maskowanie (wyznaczenie dolin rzecznych)\n",
    "- reklasyfikacja"
   ]
  },
  {
   "cell_type": "code",
   "execution_count": 8,
   "id": "942c07e3",
   "metadata": {},
   "outputs": [
    {
     "data": {
      "text/plain": [
       "0"
      ]
     },
     "execution_count": 8,
     "metadata": {},
     "output_type": "execute_result"
    }
   ],
   "source": [
    "from qgis.analysis import QgsRasterCalculator, QgsRasterCalculatorEntry\n",
    "\n",
    "a = QgsRasterCalculatorEntry()\n",
    "a.raster = raster\n",
    "a.bandNumber = 1\n",
    "a.ref = 'DEM@1'\n",
    "\n",
    "calculator = QgsRasterCalculator(\n",
    "    formulaString = \"DEM@1 * 5\",\n",
    "    outputFile = \"output.tif\",\n",
    "    outputFormat = \"GTiff\",\n",
    "    outputExtent = raster.extent(),\n",
    "    # outputCrs = raster.crs(),\n",
    "    nOutputColumns = raster.width(),\n",
    "    nOutputRows = raster.height(),\n",
    "    rasterEntries = [a],\n",
    "    transformContext = QgsCoordinateTransformContext()\n",
    ")\n",
    "\n",
    "calculator.processCalculation() ## dlaczego CRS nie przekazany?"
   ]
  },
  {
   "cell_type": "code",
   "execution_count": 10,
   "id": "fa6cad6c",
   "metadata": {},
   "outputs": [
    {
     "name": "stdout",
     "output_type": "stream",
     "text": [
      "True\n",
      "<QgsCoordinateReferenceSystem: invalid>\n"
     ]
    }
   ],
   "source": [
    "test = QgsRasterLayer(\"output.tif\", \"test\")\n",
    "print(test.isValid())\n",
    "print(test.crs())\n",
    "#> <QgsCoordinateReferenceSystem: invalid>"
   ]
  },
  {
   "cell_type": "markdown",
   "id": "0e0aa98b",
   "metadata": {},
   "source": [
    "```python\n",
    "# maskowanie\n",
    "formulaString = \"('DEM@1' < 80) * 'DEM@1'\"\n",
    "```"
   ]
  },
  {
   "cell_type": "markdown",
   "id": "334d913f",
   "metadata": {},
   "source": [
    "```python\n",
    "# reklasyfikacja\n",
    "formulaString = \"('DEM@1' < 94) * 1 + ('DEM@1' >= 94 AND 'DEM@1' <= 125) * 2 + ('DEM@1' > 125) * 3\"\n",
    "```"
   ]
  },
  {
   "cell_type": "markdown",
   "id": "dea7dbe4",
   "metadata": {},
   "source": [
    "# Obliczenie histogramu"
   ]
  },
  {
   "cell_type": "code",
   "execution_count": 21,
   "id": "b21cf338",
   "metadata": {},
   "outputs": [],
   "source": [
    "from qgis.core import QgsRasterHistogram\n",
    "\n",
    "provider = raster.dataProvider()\n",
    "bin_count = 100  # liczba przedziałów w histogramie\n",
    "\n",
    "# oblicz histogram\n",
    "histogram = provider.histogram(1, bin_count)\n",
    "bins = range(0, histogram.binCount)\n",
    "vals = histogram.histogramVector\n",
    "\n",
    "# TODO:\n",
    "# - biny powinny pokazywać wysokość terenu na osi X\n",
    "# - czy da się zoptymalizować liczbę binów (QgsHistogram.optimalNumberBins())?"
   ]
  },
  {
   "cell_type": "code",
   "execution_count": 22,
   "id": "18b47c70",
   "metadata": {},
   "outputs": [
    {
     "data": {
      "image/png": "[encoded data removed]",
      "text/plain": [
       "<Figure size 640x480 with 1 Axes>"
      ]
     },
     "metadata": {},
     "output_type": "display_data"
    }
   ],
   "source": [
    "import matplotlib.pyplot as plt\n",
    "\n",
    "plt.bar(bins, vals, width = 1)\n",
    "plt.title(\"Histogram\")\n",
    "plt.xlabel(\"Bin\") # powinno być: Wysokość terenu [m]\n",
    "plt.ylabel(\"Częstość\")\n",
    "plt.show()"
   ]
  },
  {
   "cell_type": "markdown",
   "id": "62680818",
   "metadata": {},
   "source": [
    "# Przepróbkowanie rastra"
   ]
  },
  {
   "cell_type": "code",
   "execution_count": null,
   "id": "15e8031f",
   "metadata": {},
   "outputs": [],
   "source": []
  },
  {
   "cell_type": "markdown",
   "id": "81a7b234",
   "metadata": {},
   "source": [
    "# Zadania:\n",
    "\n",
    "10) Pobierz scenę satelitarną Landsata 8/9 z [EarthExplorer](https://earthexplorer.usgs.gov/), która zawiera kanał panchromatyczny (15 m; produkt L1C) oraz kanały niebieski, zielony i czerwony (30 m; produkt L2A), a następnie zwiększ rozdzielczość przestrzenną kompozycji RGB używając pansharpeningu. W najprostszym wariancie należy uśrednić wartości spektralne kanałów:\n",
    "\n",
    "```\n",
    "wynik = (kanał + kanał panchromatyczny) / 2\n",
    "```\n",
    "\n",
    "W zaawansowanym wariancie można zastosować inną wybraną technikę pansharpeningu, np. [Brovey'a](https://grass.osgeo.org/grass-stable/manuals/i.pansharpen.html#description). Dla uproszczenia przetwarzania obrazy należy dociąć do mniejszego zakresu przestrzennego. Wynik zapisz na dysku jako obraz składający się z trzech kanałów w formacie `.tif`."
   ]
  }
 ],
 "metadata": {
  "kernelspec": {
   "display_name": "Python 3 (ipykernel)",
   "language": "python",
   "name": "python3"
  },
  "language_info": {
   "codemirror_mode": {
    "name": "ipython",
    "version": 3
   },
   "file_extension": ".py",
   "mimetype": "text/x-python",
   "name": "python",
   "nbconvert_exporter": "python",
   "pygments_lexer": "ipython3",
   "version": "3.12.7"
  },
  "subtitle": "Przetwarzanie danych rastrowych",
  "title": "Algorytmy danych geoprzestrzennych"
 },
 "nbformat": 4,
 "nbformat_minor": 5
}
